{
 "cells": [
  {
   "attachments": {},
   "cell_type": "markdown",
   "metadata": {},
   "source": [
    "Name - Keshav Aggarwal  \n",
    "Entry no. - 2021CSB1104"
   ]
  },
  {
   "cell_type": "code",
   "execution_count": 1,
   "metadata": {},
   "outputs": [],
   "source": [
    "# import the necessary packages\n",
    "from imutils import face_utils\n",
    "from scipy.spatial import Delaunay\n",
    "import matplotlib.pyplot as plt\n",
    "import numpy as np\n",
    "import imageio\n",
    "import dlib\n",
    "import cv2\n",
    "\n",
    "model = \"shape_predictor_68_face_landmarks.dat\"\n",
    "detector = dlib.get_frontal_face_detector()\n",
    "predictor = dlib.shape_predictor(model)"
   ]
  },
  {
   "attachments": {},
   "cell_type": "markdown",
   "metadata": {},
   "source": [
    "Function func_image1:"
   ]
  },
  {
   "cell_type": "code",
   "execution_count": 2,
   "metadata": {},
   "outputs": [],
   "source": [
    "# Image-1 function for the part-B fo the question\n",
    "def func_image1 ():\n",
    "    # load the input image-1, resize it, and convert it to grayscale\n",
    "    image1 = plt.imread(\"img1.jpg\")\n",
    "    image1 = cv2.resize(image1, (500, 600))\n",
    "    gray1 = cv2.cvtColor(image1, cv2.COLOR_BGR2GRAY)\n",
    "    height, width, ch = image1.shape\n",
    "\n",
    "    # passing the gray version of image in the face detector and shape predictor to get the array of tie points\n",
    "    rects1 = detector(gray1, 1)\n",
    "    for (i, rect) in enumerate(rects1):\n",
    "        pts1 = predictor(gray1, rect)\n",
    "        pts1 = face_utils.shape_to_np(pts1)\n",
    "\n",
    "    # adding corner points to tie points so to make Delaunay triangles to full image\n",
    "    pts1 = np.append(pts1, [[0,0],[0,height],[width,0],[width,height], [0, int(height/2)], [int(width/2), 0], [width, int(height/2)], [int(width/2), height]], axis=0)\n",
    "\n",
    "    tri1 = Delaunay(pts1)\n",
    "\n",
    "    return image1, pts1, tri1"
   ]
  },
  {
   "attachments": {},
   "cell_type": "markdown",
   "metadata": {},
   "source": [
    "Function func_image2: "
   ]
  },
  {
   "cell_type": "code",
   "execution_count": 3,
   "metadata": {},
   "outputs": [],
   "source": [
    "# Image-2 function for the part-B of the question\n",
    "def func_image2 ():\n",
    "    # load the input image-2, resize it, and convert it to grayscale\n",
    "    image2 = plt.imread(\"img2.jpg\")\n",
    "    image2 = cv2.resize(image2, (500,600))\n",
    "    gray2 = cv2.cvtColor(image2, cv2.COLOR_BGR2GRAY)\n",
    "    height, width, ch = image2.shape\n",
    "\n",
    "    # passing the gray version of image in the face detector and shape predictor to get the array of tie points\n",
    "    rects2 = detector(gray2, 1)\n",
    "    for (i, rect) in enumerate(rects2):\n",
    "        pts2 = predictor(gray2, rect)\n",
    "        pts2 = face_utils.shape_to_np(pts2)\n",
    "\n",
    "    # adding corner points to tie points so to make Delaunay triangles to full image\n",
    "    pts2 = np.append(pts2, [[0,0],[0,height],[width,0],[width,height], [0, int(height/2)], [int(width/2), 0], [width, int(height/2)], [int(width/2), height]], axis=0)\n",
    "\n",
    "    tri2 = Delaunay(pts2)\n",
    "\n",
    "    return image2, pts2, tri2\n"
   ]
  },
  {
   "attachments": {},
   "cell_type": "markdown",
   "metadata": {},
   "source": [
    "Function for intermediate image:"
   ]
  },
  {
   "cell_type": "code",
   "execution_count": 4,
   "metadata": {},
   "outputs": [],
   "source": [
    "# Funtion to get the intermediate image with tie points at ratio = t\n",
    "\n",
    "def intermediate_img(image, newpts, image_no, pts1, pts2):\n",
    "\tnewimage = image.copy()\n",
    "\tnewtri = Delaunay(newpts)\n",
    "\n",
    "\t# Affine transformation with the first image to get various triangles\n",
    "\trows, cols, ch = image.shape\n",
    "\tfor j in range(newtri.simplices.shape[0]):\n",
    "\t\tif image_no == 1:\n",
    "\t\t\ttempts1 = np.float32([pts1[newtri.simplices[j, 0]], pts1[newtri.simplices[j, 1]], pts1[newtri.simplices[j, 2]]])\n",
    "\t\telif image_no == 2:\n",
    "\t\t\ttempts1 = np.float32([pts2[newtri.simplices[j, 0]], pts2[newtri.simplices[j, 1]], pts2[newtri.simplices[j, 2]]])\n",
    "\t\ttempts2 = np.float32([newpts[newtri.simplices[j, 0]], newpts[newtri.simplices[j, 1]], newpts[newtri.simplices[j, 2]]])\n",
    "\t\ttempimg = cv2.getAffineTransform(tempts1, tempts2)\n",
    "\t\ttempimg = cv2.warpAffine(image, tempimg, (cols, rows))\n",
    "\n",
    "\t\tpts = np.int32(tempts2)\n",
    "\n",
    "\t\tmask = np.zeros(tempimg.shape[:2], np.uint8)\n",
    "\n",
    "\t\tcv2.fillPoly(mask, pts=[pts], color=(255, 255, 255))\n",
    "\t\ttempimg = cv2.bitwise_and(tempimg, tempimg, mask=mask)\n",
    "\t\tmask[mask == 255] = 1\t\t\t\t\t\t\t\t\t\t\t# temporary\n",
    "\t\tmask[mask == 0] = 255\n",
    "\t\tmask[mask == 1] = 0\n",
    "\t\tnewimage = cv2.bitwise_and(newimage, newimage, mask=mask)\n",
    "\t\tnewimage = cv2.bitwise_or(newimage, tempimg)\n",
    "\t\t\n",
    "\treturn newimage         "
   ]
  },
  {
   "attachments": {},
   "cell_type": "markdown",
   "metadata": {},
   "source": [
    "Function for part-A:"
   ]
  },
  {
   "cell_type": "code",
   "execution_count": 5,
   "metadata": {},
   "outputs": [],
   "source": [
    "def partA():\n",
    "    imgs = []\n",
    "            \n",
    "    image1, pts1, tri1 = func_image1()\n",
    "    image2, pts2, tri2 = func_image2()\n",
    "\n",
    "    for t in range (1, 100):\n",
    "        t = t/100\n",
    "        npts = np.round(t*pts1 + (1-t)*pts2)\n",
    "        n1 = intermediate_img(image1, npts, 1, pts1, pts2)\n",
    "        n2 = intermediate_img(image2, npts, 2, pts1,  pts2)\n",
    "        newImage = np.uint8(np.round((n1*t) + (n2*(1-t))))\n",
    "        imgs.append(newImage)\n",
    "    \n",
    "    return imgs"
   ]
  },
  {
   "attachments": {},
   "cell_type": "markdown",
   "metadata": {},
   "source": [
    "Function for part-B:"
   ]
  },
  {
   "cell_type": "code",
   "execution_count": 9,
   "metadata": {},
   "outputs": [],
   "source": [
    "def partB ():\n",
    "    imgs = []\n",
    "            \n",
    "    image1, temp, tri1 = func_image1()\n",
    "    image2, temp, tri2 = func_image2()\n",
    "\n",
    "    file = open(\"k.txt\", 'r')\n",
    "\n",
    "    T = int(file.readline())\n",
    "    pts1 = np.ones((T, 2), dtype='int32')\n",
    "    pts2 = np.ones((T, 2), dtype='int32')\n",
    "\n",
    "    data = file.readlines()\n",
    "    i = 0                                   # i ~ counter for the no of points done\n",
    "    for line in data:\n",
    "        points = (line.split())\n",
    "        pts1[i, 0] = points[0]\n",
    "        pts1[i, 1] = points[1]\n",
    "        pts2[i, 0] = points[2]\n",
    "        pts2[i, 1] = points[3]\n",
    "        i+=1\n",
    "\n",
    "    for t in range (1, 100):\n",
    "        t = t/100\n",
    "        npts = np.round(t*pts1 + (1-t)*pts2)\n",
    "        n1 = intermediate_img(image1, npts, 1, pts1, pts2)\n",
    "        n2 = intermediate_img(image2, npts, 2, pts1,  pts2)\n",
    "        newImage = np.uint8(np.round((n1*t) + (n2*(1-t))))\n",
    "        imgs.append(newImage)\n",
    "\n",
    "    return imgs"
   ]
  },
  {
   "attachments": {},
   "cell_type": "markdown",
   "metadata": {},
   "source": [
    "Main function:"
   ]
  },
  {
   "cell_type": "code",
   "execution_count": 10,
   "metadata": {},
   "outputs": [],
   "source": [
    "# main function\n",
    "\n",
    "choice = int(input(\"Enter choice for the parts:\\n1 - part-A\\n2 - part-B\\n\"))\n",
    "if choice == 1:\n",
    "    frames = partA()\n",
    "    imageio.mimsave('result1.gif', frames, format='GIF', fps=5)\n",
    "elif choice == 2:\n",
    "    frames = partB()\n",
    "    imageio.mimsave('result2.gif', frames, format='GIF', fps=5)\n",
    "else:\n",
    "    print(\"Invalid input!!\")"
   ]
  }
 ],
 "metadata": {
  "kernelspec": {
   "display_name": "base",
   "language": "python",
   "name": "python3"
  },
  "language_info": {
   "codemirror_mode": {
    "name": "ipython",
    "version": 3
   },
   "file_extension": ".py",
   "mimetype": "text/x-python",
   "name": "python",
   "nbconvert_exporter": "python",
   "pygments_lexer": "ipython3",
   "version": "3.10.8"
  },
  "vscode": {
   "interpreter": {
    "hash": "9d19b846c981df6691e2bdb59be634a7ebbdaac55797ba17323322a2d3a54045"
   }
  }
 },
 "nbformat": 4,
 "nbformat_minor": 2
}
